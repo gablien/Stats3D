{
 "cells": [
  {
   "metadata": {},
   "cell_type": "code",
   "outputs": [],
   "execution_count": null,
   "source": [
    "%load_ext autoreload\n",
    "%autoreload\n",
    "\n",
    "import os\n",
    "import sys\n",
    "\n",
    "import pandas as pd\n",
    "from pathlib import Path \n",
    "\n",
    "sys.path.append(f'/home/{os.getlogin()}/programs/stats3d')\n",
    "from src.regional import csv_from_graph\n",
    "from src.regional import graph_utils"
   ],
   "id": "f0176e238be53aef"
  },
  {
   "metadata": {},
   "cell_type": "code",
   "outputs": [],
   "execution_count": null,
   "source": [
    "experiment_id = '231012'\n",
    "\n",
    "# Path to base folder containing the graphs\n",
    "data_folder_base = Path('...')\n",
    "\n",
    "# Constructing list of graph paths according to name pattern\n",
    "graph_list = graph_utils.find_files_by_pattern(directory=data_folder_base, pattern='graph.gt')\n",
    "graph_paths = {graph_path.name.split(\"_\")[0]: str(graph_path) \n",
    "               for graph_path in graph_list}\n",
    "print(f'Found {len(graph_list)} graphs to process:')\n",
    "print(graph_paths)\n",
    "\n",
    "# Path to final csv to generate\n",
    "stats_file_path = data_folder_base / f'{experiment_id}_vasculature_stats.csv'\n",
    "\n",
    "# Sample-to-group correspondence\n",
    "df_sample = pd.read_csv(data_folder_base / f\"{experiment_id}_sample_info.csv\", index_col=False)\n",
    "df_sample['sample_id'] = df_sample['sample_id'].astype(str)"
   ],
   "id": "7f97a8cff4d367ee"
  },
  {
   "cell_type": "code",
   "id": "fc443077",
   "metadata": {
    "ExecuteTime": {
     "end_time": "2025-10-15T17:02:12.702091Z",
     "start_time": "2025-10-15T11:49:24.338696Z"
    }
   },
   "source": "csv_from_graph.compute_csv_from_graph(graph_paths, stats_file_path, df_sample, add_tortuosity=False)",
   "outputs": [
    {
     "name": "stdout",
     "output_type": "stream",
     "text": [
      "Computing graph stats from sample 272 : /network/iss/pf-quant/pf-quant_teams/sanson-huillard/Yesim_Guner/t0_test/ILR272/272_tgln-cd_graph.gt\n",
      "Loading graph from sample 272\n",
      "Graph loaded!\n",
      "Adding edges annotation\n",
      "Edges annotation computed!\n",
      "Adding edge length\n",
      "Edges length computed!\n",
      "Computing self-loops\n",
      "Self loops computed!\n",
      "has_hemisphere:  True\n",
      "Adding edge hemisphere\n",
      "Edges hemispehre computed!\n",
      "Done computing graph stats from sample 272 : /network/iss/pf-quant/pf-quant_teams/sanson-huillard/Yesim_Guner/t0_test/ILR272/272_tgln-cd_graph.gt\n",
      "Done writing graph stats in /network/iss/pf-quant/pf-quant_teams/sanson-huillard/Yesim_Guner/t0_test/2_vasculature_stats.csv\n",
      "Computing graph stats from sample 273 : /network/iss/pf-quant/pf-quant_teams/sanson-huillard/Yesim_Guner/t0_test/ILR273/273_tgln-cd_graph.gt\n",
      "Loading graph from sample 273\n",
      "Graph loaded!\n",
      "Adding edges annotation\n",
      "Edges annotation computed!\n",
      "Adding edge length\n",
      "Edges length computed!\n",
      "Computing self-loops\n",
      "Self loops computed!\n",
      "has_hemisphere:  True\n",
      "Adding edge hemisphere\n",
      "Edges hemispehre computed!\n",
      "Done computing graph stats from sample 273 : /network/iss/pf-quant/pf-quant_teams/sanson-huillard/Yesim_Guner/t0_test/ILR273/273_tgln-cd_graph.gt\n",
      "Done writing graph stats in /network/iss/pf-quant/pf-quant_teams/sanson-huillard/Yesim_Guner/t0_test/2_vasculature_stats.csv\n",
      "Computing graph stats from sample 275 : /network/iss/pf-quant/pf-quant_teams/sanson-huillard/Yesim_Guner/t0_test/ILR275/275_tgln-cd_graph.gt\n",
      "Loading graph from sample 275\n",
      "Graph loaded!\n",
      "Adding edges annotation\n",
      "Edges annotation computed!\n",
      "Adding edge length\n",
      "Edges length computed!\n",
      "Computing self-loops\n",
      "Self loops computed!\n",
      "has_hemisphere:  True\n",
      "Adding edge hemisphere\n",
      "Edges hemispehre computed!\n",
      "Done computing graph stats from sample 275 : /network/iss/pf-quant/pf-quant_teams/sanson-huillard/Yesim_Guner/t0_test/ILR275/275_tgln-cd_graph.gt\n",
      "Done writing graph stats in /network/iss/pf-quant/pf-quant_teams/sanson-huillard/Yesim_Guner/t0_test/2_vasculature_stats.csv\n",
      "Computing graph stats from sample 288 : /network/iss/pf-quant/pf-quant_teams/sanson-huillard/Yesim_Guner/t0_test/ILR288/288_tgln-cd_graph.gt\n",
      "Loading graph from sample 288\n",
      "Graph loaded!\n",
      "Adding edges annotation\n",
      "Edges annotation computed!\n",
      "Adding edge length\n",
      "Edges length computed!\n",
      "Computing self-loops\n",
      "Self loops computed!\n",
      "has_hemisphere:  True\n",
      "Adding edge hemisphere\n",
      "Edges hemispehre computed!\n",
      "Done computing graph stats from sample 288 : /network/iss/pf-quant/pf-quant_teams/sanson-huillard/Yesim_Guner/t0_test/ILR288/288_tgln-cd_graph.gt\n",
      "Done writing graph stats in /network/iss/pf-quant/pf-quant_teams/sanson-huillard/Yesim_Guner/t0_test/2_vasculature_stats.csv\n",
      "Computing graph stats from sample 289 : /network/iss/pf-quant/pf-quant_teams/sanson-huillard/Yesim_Guner/t0_test/ILR289/289_tgln-cd_graph.gt\n",
      "Loading graph from sample 289\n",
      "Graph loaded!\n",
      "Adding edges annotation\n",
      "Edges annotation computed!\n",
      "Adding edge length\n",
      "Edges length computed!\n",
      "Computing self-loops\n",
      "Self loops computed!\n",
      "has_hemisphere:  True\n",
      "Adding edge hemisphere\n",
      "Edges hemispehre computed!\n",
      "Done computing graph stats from sample 289 : /network/iss/pf-quant/pf-quant_teams/sanson-huillard/Yesim_Guner/t0_test/ILR289/289_tgln-cd_graph.gt\n",
      "Done writing graph stats in /network/iss/pf-quant/pf-quant_teams/sanson-huillard/Yesim_Guner/t0_test/2_vasculature_stats.csv\n"
     ]
    }
   ],
   "execution_count": 36
  }
 ],
 "metadata": {
  "kernelspec": {
   "display_name": "ClearMap3",
   "language": "python",
   "name": "python3"
  },
  "language_info": {
   "codemirror_mode": {
    "name": "ipython",
    "version": 3
   },
   "file_extension": ".py",
   "mimetype": "text/x-python",
   "name": "python",
   "nbconvert_exporter": "python",
   "pygments_lexer": "ipython3",
   "version": "3.11.11"
  }
 },
 "nbformat": 4,
 "nbformat_minor": 5
}
