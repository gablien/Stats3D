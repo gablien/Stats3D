{
 "cells": [
  {
   "cell_type": "code",
   "execution_count": 81,
   "id": "10945b7b",
   "metadata": {},
   "outputs": [
    {
     "name": "stdout",
     "output_type": "stream",
     "text": [
      "The autoreload extension is already loaded. To reload it, use:\n",
      "  %reload_ext autoreload\n"
     ]
    }
   ],
   "source": [
    "%load_ext autoreload\n",
    "%autoreload\n",
    "\n",
    "import os\n",
    "import sys\n",
    "\n",
    "import pandas as pd\n",
    "from pathlib import Path \n",
    "\n",
    "sys.path.append(f'/home/{os.getlogin()}/programs/stats3d')\n",
    "from src.regional import csv_from_graph\n",
    "from src.regional import graph_utils"
   ]
  },
  {
   "cell_type": "code",
   "execution_count": null,
   "id": "030a6bf3",
   "metadata": {},
   "outputs": [
    {
     "name": "stdout",
     "output_type": "stream",
     "text": [
      "Found 1 graphs to process:\n",
      "{'1M': '/network/iss/renier/projects/vasculature/development/processed/Male_vs_Female/males_vs_females_P30_CD31_sm22/250407-1M/1M_sm22-cd31_graph.gt'}\n"
     ]
    }
   ],
   "source": [
    "experiment_id = '231012'\n",
    "\n",
    "# Path to base folder containing the graphs\n",
    "data_folder_base = Path('...')\n",
    "\n",
    "# Constructing list of graph paths according to name pattern\n",
    "graph_list = graph_utils.find_files_by_pattern(directory=data_folder_base, pattern='graph.gt')\n",
    "graph_paths = {graph_path.name.split(\"_\")[0]: str(graph_path) \n",
    "               for graph_path in graph_list}\n",
    "print(f'Found {len(graph_list)} graphs to process:')\n",
    "print(graph_paths)\n",
    "\n",
    "# Path to final csv to generate\n",
    "stats_file_path = data_folder_base / f'{experiment_id}_vasculature_stats.csv'\n",
    "\n",
    "# Sample-to-group correspondence\n",
    "df_sample = pd.read_csv(data_folder_base / f\"{experiment_id}_sample_info.csv\", index_col=False)"
   ]
  },
  {
   "cell_type": "code",
   "execution_count": null,
   "id": "fc443077",
   "metadata": {},
   "outputs": [
    {
     "name": "stdout",
     "output_type": "stream",
     "text": [
      "Computing graph stats from sample 1M : /network/iss/renier/projects/vasculature/development/processed/Male_vs_Female/males_vs_females_P30_CD31_sm22/250407-1M/1M_sm22-cd31_graph.gt\n",
      "Loading graph from sample 1M\n",
      "Graph loaded!\n",
      "Adding edges annotation\n"
     ]
    }
   ],
   "source": [
    "csv_from_graph.compute_csv_from_graph(graph_paths, stats_file_path, df_sample, add_tortuosity=False)"
   ]
  }
 ],
 "metadata": {
  "kernelspec": {
   "display_name": "ClearMap3",
   "language": "python",
   "name": "python3"
  },
  "language_info": {
   "codemirror_mode": {
    "name": "ipython",
    "version": 3
   },
   "file_extension": ".py",
   "mimetype": "text/x-python",
   "name": "python",
   "nbconvert_exporter": "python",
   "pygments_lexer": "ipython3",
   "version": "3.11.11"
  }
 },
 "nbformat": 4,
 "nbformat_minor": 5
}
