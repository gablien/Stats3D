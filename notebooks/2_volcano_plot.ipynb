{
 "cells": [
  {
   "cell_type": "code",
   "execution_count": 98,
   "metadata": {},
   "outputs": [],
   "source": [
    "import os \n",
    "import os.path\n",
    "import sys\n",
    "\n",
    "\n",
    "import numpy as np\n",
    "import pandas as pd \n",
    "import matplotlib.pyplot as plt \n",
    "from matplotlib.ticker import MaxNLocator\n",
    "from pathlib import Path\n",
    "import seaborn as sns \n",
    "import statsmodels.api as sm\n",
    "from statsmodels.formula.api import ols\n",
    "import scipy.stats as stats\n",
    "from scipy.stats import ttest_ind\n",
    "\n",
    "\n",
    "try:\n",
    "    import ClearMap.Settings as settings\n",
    "except:\n",
    "    sys.path.append(f\"/home/{os.getlogin()}/programs/ClearMap/ClearMap3\")\n",
    "    import ClearMap.Settings as settings\n",
    "sys.path.append(f'/home/{os.getlogin()}/programs/stats3d')\n",
    "from src.regional import plot_utils\n",
    "from src.regional import graph_utils"
   ]
  },
  {
   "cell_type": "markdown",
   "metadata": {},
   "source": [
    "## Specify paths"
   ]
  },
  {
   "cell_type": "code",
   "execution_count": 99,
   "metadata": {},
   "outputs": [],
   "source": [
    "ontology_df = pd.read_json(Path(settings.atlas_folder) / 'ABA_annotation_last.jsonl', lines=True)"
   ]
  },
  {
   "cell_type": "code",
   "execution_count": null,
   "metadata": {},
   "outputs": [],
   "source": [
    "data_folder_base = Path(f'/raid_data/{os.getlogin()}/231012_e15vsV_idisco')"
   ]
  },
  {
   "cell_type": "code",
   "execution_count": null,
   "metadata": {},
   "outputs": [
    {
     "data": {
      "text/html": [
       "<div>\n",
       "<style scoped>\n",
       "    .dataframe tbody tr th:only-of-type {\n",
       "        vertical-align: middle;\n",
       "    }\n",
       "\n",
       "    .dataframe tbody tr th {\n",
       "        vertical-align: top;\n",
       "    }\n",
       "\n",
       "    .dataframe thead th {\n",
       "        text-align: right;\n",
       "    }\n",
       "</style>\n",
       "<table border=\"1\" class=\"dataframe\">\n",
       "  <thead>\n",
       "    <tr style=\"text-align: right;\">\n",
       "      <th></th>\n",
       "      <th>sample_id</th>\n",
       "      <th>region_id</th>\n",
       "      <th>n_vertices</th>\n",
       "      <th>n_degree_1</th>\n",
       "      <th>n_degree_3</th>\n",
       "      <th>radius</th>\n",
       "      <th>group</th>\n",
       "    </tr>\n",
       "  </thead>\n",
       "  <tbody>\n",
       "    <tr>\n",
       "      <th>0</th>\n",
       "      <td>231012-1</td>\n",
       "      <td>1</td>\n",
       "      <td>196</td>\n",
       "      <td>2</td>\n",
       "      <td>162</td>\n",
       "      <td>2.127006</td>\n",
       "      <td>Virgin</td>\n",
       "    </tr>\n",
       "    <tr>\n",
       "      <th>1</th>\n",
       "      <td>231012-1</td>\n",
       "      <td>2</td>\n",
       "      <td>837</td>\n",
       "      <td>9</td>\n",
       "      <td>752</td>\n",
       "      <td>1.683489</td>\n",
       "      <td>Virgin</td>\n",
       "    </tr>\n",
       "    <tr>\n",
       "      <th>2</th>\n",
       "      <td>231012-1</td>\n",
       "      <td>4</td>\n",
       "      <td>78773</td>\n",
       "      <td>1334</td>\n",
       "      <td>67107</td>\n",
       "      <td>1.650835</td>\n",
       "      <td>Virgin</td>\n",
       "    </tr>\n",
       "    <tr>\n",
       "      <th>3</th>\n",
       "      <td>231012-1</td>\n",
       "      <td>6</td>\n",
       "      <td>12090</td>\n",
       "      <td>273</td>\n",
       "      <td>10619</td>\n",
       "      <td>1.689532</td>\n",
       "      <td>Virgin</td>\n",
       "    </tr>\n",
       "    <tr>\n",
       "      <th>4</th>\n",
       "      <td>231012-1</td>\n",
       "      <td>7</td>\n",
       "      <td>14315</td>\n",
       "      <td>145</td>\n",
       "      <td>12153</td>\n",
       "      <td>1.839457</td>\n",
       "      <td>Virgin</td>\n",
       "    </tr>\n",
       "  </tbody>\n",
       "</table>\n",
       "</div>"
      ],
      "text/plain": [
       "  sample_id  region_id  n_vertices  n_degree_1  n_degree_3    radius   group\n",
       "0  231012-1          1         196           2         162  2.127006  Virgin\n",
       "1  231012-1          2         837           9         752  1.683489  Virgin\n",
       "2  231012-1          4       78773        1334       67107  1.650835  Virgin\n",
       "3  231012-1          6       12090         273       10619  1.689532  Virgin\n",
       "4  231012-1          7       14315         145       12153  1.839457  Virgin"
      ]
     },
     "execution_count": 5,
     "metadata": {},
     "output_type": "execute_result"
    }
   ],
   "source": [
    "result_df = pd.read_csv(data_folder_base / 'vasculature_stats_gd15.csv')\n",
    "result_df.head()"
   ]
  },
  {
   "cell_type": "markdown",
   "metadata": {},
   "source": [
    "## Specify parameters"
   ]
  },
  {
   "cell_type": "code",
   "execution_count": 145,
   "metadata": {},
   "outputs": [],
   "source": [
    "PARAM = 'n_true_degree_1'\n",
    "TEST = 'GD10'\n",
    "CTL = 'virgin_from_GD10'\n",
    "SAMPLES = [1, 2, 3, 4, 5, 6, 7, 8, 9, 10, 11, 12, 13, 14, 15]\n",
    "HEMISPHERE=[0,255]"
   ]
  },
  {
   "cell_type": "markdown",
   "metadata": {},
   "source": [
    "## Filters"
   ]
  },
  {
   "cell_type": "markdown",
   "metadata": {},
   "source": [
    "#### Filter by sample and hemisphere"
   ]
  },
  {
   "cell_type": "code",
   "execution_count": null,
   "metadata": {},
   "outputs": [],
   "source": [
    "df = plot_utils.filter_by_samples(result_df, sample_list=SAMPLES)\n",
    "df = plot_utils.filter_by_hemisphere(df, hemisphere=HEMISPHERE)"
   ]
  },
  {
   "cell_type": "markdown",
   "metadata": {},
   "source": [
    "#### Optionnal: remove fiber tracts, ventricular system or non-leaf (ie non terminal) regions"
   ]
  },
  {
   "cell_type": "code",
   "execution_count": 147,
   "metadata": {},
   "outputs": [],
   "source": [
    "filtered_regions = []\n",
    "\n",
    "for region in np.unique(ontology_df['id']):\n",
    "    row = ontology_df[ontology_df['id'] == region]\n",
    "    if not row.empty:\n",
    "        direct_children = row['direct_children_structures_ids'].iloc[0]\n",
    "        \n",
    "        # Take the last node that exist in our annotation map\n",
    "        if not direct_children:\n",
    "            filtered_regions.append(region)\n",
    "        else:\n",
    "            if all(child not in result_df['region_id'].to_list() for child in direct_children):\n",
    "                filtered_regions.append(region)\n",
    "\n",
    "# Remove fiber tracts system:\n",
    "for id in graph_utils.extract_children_coordinates(1009, ontology_df):\n",
    "    if id in filtered_regions:\n",
    "        filtered_regions.remove(id)\n",
    "\n",
    "# Remove ventricular systems:\n",
    "for id in graph_utils.extract_children_coordinates(73, ontology_df):\n",
    "    if id in filtered_regions:\n",
    "        filtered_regions.remove(id)\n",
    "\n",
    "df = plot_utils.filter_by_region(df, region=filtered_regions)"
   ]
  },
  {
   "cell_type": "markdown",
   "metadata": {},
   "source": [
    "## Volcano plot"
   ]
  },
  {
   "cell_type": "code",
   "execution_count": null,
   "metadata": {},
   "outputs": [],
   "source": [
    "df_volcano = plot_utils.create_volcano_data(df, CTL, TEST, PARAM)"
   ]
  },
  {
   "cell_type": "code",
   "execution_count": null,
   "metadata": {},
   "outputs": [],
   "source": [
    "fig, ax = plt.subplots(figsize=(15, 12))\n",
    "\n",
    "# Global plot \n",
    "sns.scatterplot(df_volcano, x=\"log2(fold_change)\", y=\"-log10(p-val)\", color='grey', s=100, linewidths=0.1)\n",
    "\n",
    "# Highlight a specific region \n",
    "# plt.scatter(df_volcano[df_volcano['region_id']==272]['log2(fold_change)'], df_volcano[df_volcano['region_id']==272][\"-log10(p-val)\"], color='red', label='AVPV')\n",
    "\n",
    "# Highlight significative regions \n",
    "for idx, id in enumerate(df_volcano['region_id']):\n",
    "    line = df_volcano[df_volcano['region_id']==id]\n",
    "    if line.at[idx,'-log10(p-val)']>1.3 and line.at[idx,'log2(fold_change)']>0 and id<11000:\n",
    "        # Print the significative regions\n",
    "        print(f'region significatively superior: ', ontology_df[ontology_df[\"id\"]==id][\"name\"].values[0], ' (', ontology_df[ontology_df[\"id\"]==id][\"acronym\"].values[0], ')')\n",
    "        x = line.at[idx,'log2(fold_change)']\n",
    "        y = line.at[idx,'-log10(p-val)']\n",
    "        # Add color if significative region\n",
    "        plt.scatter(x, y, color='#'+ontology_df[ontology_df[\"id\"]==id]['color_hex_triplet'], edgecolor='white', s=110, linewidths=0.1)\n",
    "        # Add name if significative region\n",
    "        acronym = ontology_df[ontology_df[\"id\"]==id]['acronym'].values[0]\n",
    "        plt.text(x+0.005, y-0.01, ontology_df[ontology_df[\"id\"]==id]['acronym'].values[0], fontsize=6)\n",
    "        # patterns = ['SSp', 'AUD', 'MO']\n",
    "        # if any(pattern in acronym for pattern in patterns):\n",
    "        #     plt.text(x+0.005, y-0.01, ontology_df[ontology_df[\"id\"]==id]['acronym'].values[0], fontsize=8)\n",
    "\n",
    "plt.axvline(x = 0, color = 'grey', linestyle='--', linewidth = 0.8)\n",
    "plt.axhline(y = 1.3, color = 'grey', linestyle='--', linewidth = 0.8)\n",
    "\n",
    "plt.title(f'{PARAM} in {TEST} vs {CTL}', fontsize=\"18\")\n",
    "plt.xlabel('log2(fold change)', fontsize=\"16\")\n",
    "plt.ylabel('-log10(p-val)', fontsize=\"16\")\n",
    "plt.xticks(fontsize=15)  # Change x-axis tick label size\n",
    "plt.yticks(fontsize=15) \n",
    "\n",
    "# plt.xlim(0, 1)\n",
    "# plt.ylim(1.3, 3.25)\n",
    "# plt.savefig(data_folder_base + f'/{PARAM}_in_{TEST}_vs_{CTL}' + '_volcano.pdf', bbox_inches='tight', transparent=True) "
   ]
  },
  {
   "cell_type": "markdown",
   "metadata": {},
   "source": [
    "## Save plot metadata"
   ]
  },
  {
   "cell_type": "code",
   "execution_count": 150,
   "metadata": {},
   "outputs": [],
   "source": [
    "import datetime\n",
    "\n",
    "tracking_csv_path = Path(data_folder_base) / f'{PARAM}_in_{TEST}_vs_{CTL}_plot_tracking.csv'\n",
    "\n",
    "metadata = {\n",
    "    'date': datetime.datetime.now().strftime('%Y-%m-%d %H:%M:%S'),\n",
    "    'parameter': PARAM,\n",
    "    'test_group': TEST,\n",
    "    'control_group': CTL,\n",
    "    'samples': str(SAMPLES),  \n",
    "    'hemispheres': str(HEMISPHERE),  \n",
    "    'num_samples': len(SAMPLES),\n",
    "    'plot_save_path': str(Path(data_folder_base) / f'{PARAM}_in_{TEST}_vs_{CTL}_volcano.pdf'),\n",
    "    'filtered_fiber_tracts': 'Yes',  \n",
    "    'filtered_ventricular_system': 'Yes', \n",
    "    'filtered_non_leaf_regions': 'Yes', \n",
    "    'num_significant_regions': len(df_volcano[(df_volcano['-log10(p-val)'] > 1.3) & (df_volcano['log2(fold_change)'] > 0) & (df_volcano['region_id'] < 11000)]),\n",
    "}\n",
    "\n",
    "metadata_df = pd.DataFrame([metadata])\n",
    "metadata_df.to_csv(tracking_csv_path, index=False)"
   ]
  }
 ],
 "metadata": {
  "kernelspec": {
   "display_name": "ClearMap3",
   "language": "python",
   "name": "python3"
  },
  "language_info": {
   "codemirror_mode": {
    "name": "ipython",
    "version": 3
   },
   "file_extension": ".py",
   "mimetype": "text/x-python",
   "name": "python",
   "nbconvert_exporter": "python",
   "pygments_lexer": "ipython3",
   "version": "3.11.11"
  }
 },
 "nbformat": 4,
 "nbformat_minor": 2
}
