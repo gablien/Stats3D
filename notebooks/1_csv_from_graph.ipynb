{
 "cells": [
  {
   "metadata": {},
   "cell_type": "code",
   "source": [
    "%load_ext autoreload\n",
    "%autoreload\n",
    "\n",
    "import os\n",
    "import sys\n",
    "\n",
    "import pandas as pd\n",
    "from pathlib import Path \n",
    "\n",
    "sys.path.append(f'/home/{os.getlogin()}/programs/stats3d')\n",
    "from src.regional import csv_from_graph\n",
    "from src.regional import graph_utils"
   ],
   "id": "f0176e238be53aef",
   "outputs": [],
   "execution_count": null
  },
  {
   "metadata": {},
   "cell_type": "code",
   "source": [
    "experiment_id = '231012'\n",
    "\n",
    "# Path to base folder containing the graphs\n",
    "data_folder_base = Path('...')\n",
    "\n",
    "# Constructing list of graph paths according to name pattern\n",
    "graph_list = graph_utils.find_files_by_pattern(directory=data_folder_base, pattern='graph.gt')\n",
    "graph_paths = {graph_path.name.split(\"_\")[0]: str(graph_path) \n",
    "               for graph_path in graph_list}\n",
    "print(f'Found {len(graph_list)} graphs to process:')\n",
    "print(graph_paths)\n",
    "\n",
    "# Path to final csv to generate\n",
    "stats_file_path = data_folder_base / f'{experiment_id}_vasculature_stats.csv'\n",
    "\n",
    "# Sample-to-group correspondence\n",
    "df_sample = pd.read_csv(data_folder_base / f\"{experiment_id}_sample_info.csv\", index_col=False)\n",
    "df_sample['sample_id'] = df_sample['sample_id'].astype(str)"
   ],
   "id": "7f97a8cff4d367ee",
   "outputs": [],
   "execution_count": null
  },
  {
   "cell_type": "code",
   "id": "fc443077",
   "metadata": {},
   "source": "csv_from_graph.compute_csv_from_graph(graph_paths, stats_file_path, df_sample, add_tortuosity=False)\n",
   "outputs": [],
   "execution_count": null
  }
 ],
 "metadata": {
  "kernelspec": {
   "display_name": "ClearMap3",
   "language": "python",
   "name": "python3"
  },
  "language_info": {
   "codemirror_mode": {
    "name": "ipython",
    "version": 3
   },
   "file_extension": ".py",
   "mimetype": "text/x-python",
   "name": "python",
   "nbconvert_exporter": "python",
   "pygments_lexer": "ipython3",
   "version": "3.11.11"
  }
 },
 "nbformat": 4,
 "nbformat_minor": 5
}
