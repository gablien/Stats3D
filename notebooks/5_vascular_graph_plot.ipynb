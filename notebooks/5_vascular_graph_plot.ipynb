{
 "cells": [
  {
   "cell_type": "code",
   "execution_count": 3,
   "id": "fc141be4",
   "metadata": {},
   "outputs": [
    {
     "name": "stdout",
     "output_type": "stream",
     "text": [
      "The autoreload extension is already loaded. To reload it, use:\n",
      "  %reload_ext autoreload\n"
     ]
    }
   ],
   "source": [
    "%load_ext autoreload\n",
    "%autoreload\n",
    "\n",
    "import os\n",
    "import sys\n",
    "\n",
    "import numpy as np \n",
    "import pandas as pd\n",
    "from pathlib import Path\n",
    "\n",
    "try:\n",
    "    from ClearMap.Analysis.Graphs.GraphGt import load as load_graph\n",
    "except:\n",
    "    sys.path.append(f\"/home/{os.getlogin()}/programs/ClearMap2\")\n",
    "    from ClearMap.Analysis.Graphs.GraphGt import load as load_graph\n",
    "    import ClearMap.Settings as settings\n",
    "\n",
    "try:\n",
    "    from src.graph_visualization import graph_vis\n",
    "except:\n",
    "    sys.path.append(f\"/home/{os.getlogin()}/programs/stats3d\")\n",
    "    from src.graph_visualization import graph_vis\n",
    "\n",
    "ontology_df = pd.read_json(Path(settings.atlas_folder) / 'ABA_annotation_last.jsonl', lines=True)"
   ]
  },
  {
   "cell_type": "markdown",
   "id": "28dbd7ba",
   "metadata": {},
   "source": [
    "### Vascular graph loading"
   ]
  },
  {
   "cell_type": "code",
   "execution_count": null,
   "id": "226023e9",
   "metadata": {},
   "outputs": [],
   "source": [
    "print('Loading graph')\n",
    "graph_path = ''\n",
    "graph = load_graph(graph_path)"
   ]
  },
  {
   "cell_type": "code",
   "execution_count": null,
   "id": "4a246a5c",
   "metadata": {},
   "outputs": [],
   "source": [
    "print('Available edges properties: ')\n",
    "print(list(graph.edge_properties))\n",
    "print('Available vertex properties: ')\n",
    "print(list(graph.vertex_properties))"
   ]
  },
  {
   "cell_type": "markdown",
   "id": "4c6b1a8c",
   "metadata": {},
   "source": [
    "### Recommended: subslice the graph"
   ]
  },
  {
   "cell_type": "code",
   "execution_count": null,
   "id": "47f43850",
   "metadata": {},
   "outputs": [],
   "source": [
    "gs = graph.sub_slice((slice(0, 4000), slice(0, 4000), slice(2100, 2200)))"
   ]
  },
  {
   "cell_type": "markdown",
   "id": "d49c0730",
   "metadata": {},
   "source": [
    "### Plot colored by vessel type (veins / arteries)"
   ]
  },
  {
   "cell_type": "code",
   "execution_count": 18,
   "id": "37ea53d1",
   "metadata": {},
   "outputs": [
    {
     "data": {
      "application/vnd.jupyter.widget-view+json": {
       "model_id": "e79da6cf1f1847e793a746fefb64309e",
       "version_major": 2,
       "version_minor": 0
      },
      "text/plain": [
       "Widget(value='<iframe src=\"http://localhost:41359/index.html?ui=P_0x7f378fe8ab90_4&reconnect=auto\" class=\"pyvi…"
      ]
     },
     "execution_count": 18,
     "metadata": {},
     "output_type": "execute_result"
    }
   ],
   "source": [
    "# General color: grey \n",
    "n_edges = len(gs.edge_property('length'))\n",
    "edge_color = np.array([[100, 100, 100, 100] for _ in range(n_edges)])\n",
    "\n",
    "# Arteries color: red\n",
    "edge_color[gs.edge_property('artery')] = [255, 0, 0, 255]\n",
    "\n",
    "# Veins color: blue \n",
    "edge_color[gs.edge_property('vein')] = [0, 0, 255, 255]\n",
    "\n",
    "scale = np.array([1.625, 1.625, 2])\n",
    "graph_vis.plot_pyvista_plot(gs, edge_color, scale=scale)"
   ]
  },
  {
   "cell_type": "markdown",
   "id": "e1f50433",
   "metadata": {},
   "source": [
    "### Highlight specific region"
   ]
  },
  {
   "cell_type": "code",
   "execution_count": 12,
   "id": "a7a396b7",
   "metadata": {},
   "outputs": [],
   "source": [
    "# id of the regions to highlight: \n",
    "id_list = [515,523,272,133]"
   ]
  },
  {
   "cell_type": "code",
   "execution_count": 17,
   "id": "33ad1777",
   "metadata": {},
   "outputs": [
    {
     "data": {
      "application/vnd.jupyter.widget-view+json": {
       "model_id": "159315555ab847e29bde0911c00a277c",
       "version_major": 2,
       "version_minor": 0
      },
      "text/plain": [
       "Widget(value='<iframe src=\"http://localhost:41359/index.html?ui=P_0x7f37c2ef0d90_3&reconnect=auto\" class=\"pyvi…"
      ]
     },
     "execution_count": 17,
     "metadata": {},
     "output_type": "execute_result"
    }
   ],
   "source": [
    "# General color: grey \n",
    "n_edges = len(gs.edge_property('length'))\n",
    "edge_color = np.array([[100, 100, 100, 255] for _ in range(n_edges)])\n",
    "\n",
    "# Region of interest color: red\n",
    "vertex_filter = np.isin(gs.vertex_property('annotation'), id_list)\n",
    "edge_filter = graph_vis.vertex_filter_to_edge_filter(gs, vertex_filter)\n",
    "edge_color[edge_filter] = [255, 0, 0, 255]\n",
    "\n",
    "scale = np.array([1.625, 1.625, 2])\n",
    "graph_vis.plot_pyvista_plot(gs, edge_color, scale=scale)"
   ]
  },
  {
   "cell_type": "markdown",
   "id": "cf91ef19",
   "metadata": {},
   "source": [
    "### Plot colored by atlas annotation"
   ]
  },
  {
   "cell_type": "code",
   "execution_count": null,
   "id": "dc06ca57",
   "metadata": {},
   "outputs": [
    {
     "data": {
      "application/vnd.jupyter.widget-view+json": {
       "model_id": "9de4567964644c189ddb439608aec4c3",
       "version_major": 2,
       "version_minor": 0
      },
      "text/plain": [
       "Widget(value='<iframe src=\"http://localhost:41359/index.html?ui=P_0x7f3814398b80_2&reconnect=auto\" class=\"pyvi…"
      ]
     },
     "execution_count": 16,
     "metadata": {},
     "output_type": "execute_result"
    }
   ],
   "source": [
    "# Create a mapping from annotation id to RGB color\n",
    "# Convert hex color to RGB tuple\n",
    "def hex_to_rgb(hex_color):\n",
    "    \"\"\"Convert hex color string (e.g., 'B0FFB8') to RGB tuple (0-255)\"\"\"\n",
    "    hex_color = hex_color.strip()\n",
    "    return (\n",
    "        int(hex_color[0:2], 16),\n",
    "        int(hex_color[2:4], 16),\n",
    "        int(hex_color[4:6], 16)\n",
    "    )\n",
    "\n",
    "color_map = ontology_df.set_index('id')['color_hex_triplet'].apply(hex_to_rgb).to_dict()\n",
    "\n",
    "# Get unique annotation IDs and create colors for each\n",
    "vertex_annotations = gs.vertex_property('annotation')\n",
    "unique_annotations = np.unique(vertex_annotations)\n",
    "n_edges = len(gs.edge_property('length'))\n",
    "edge_color = np.zeros((n_edges, 4), dtype=np.uint8)\n",
    "\n",
    "# For each annotation, create a vertex filter and transfer to edges\n",
    "for annotation_id in unique_annotations:\n",
    "    # Create vertex filter for this annotation\n",
    "    vertex_filter = vertex_annotations == annotation_id\n",
    "    \n",
    "    # Transfer to edge filter\n",
    "    edge_filter = graph_vis.vertex_filter_to_edge_filter(gs, vertex_filter)\n",
    "    \n",
    "    # Get color for this annotation\n",
    "    if annotation_id in color_map:\n",
    "        r, g, b = color_map[annotation_id]\n",
    "        edge_color[edge_filter] = [r, g, b, 255]  # Full opacity\n",
    "    else:\n",
    "        # Default grey color for unmapped annotations\n",
    "        edge_color[edge_filter] = [100, 100, 100, 255]\n",
    "\n",
    "# Plot the graph\n",
    "scale = np.array([1.625, 1.625, 2])\n",
    "graph_vis.plot_pyvista_plot(gs, edge_color, scale=scale)"
   ]
  }
 ],
 "metadata": {
  "kernelspec": {
   "display_name": "pyvista-gt-env",
   "language": "python",
   "name": "python3"
  },
  "language_info": {
   "codemirror_mode": {
    "name": "ipython",
    "version": 3
   },
   "file_extension": ".py",
   "mimetype": "text/x-python",
   "name": "python",
   "nbconvert_exporter": "python",
   "pygments_lexer": "ipython3",
   "version": "3.10.13"
  }
 },
 "nbformat": 4,
 "nbformat_minor": 5
}
