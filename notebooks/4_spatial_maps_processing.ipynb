{
 "cells": [
  {
   "cell_type": "code",
   "execution_count": 1,
   "id": "5d79ae94",
   "metadata": {},
   "outputs": [],
   "source": [
    "%load_ext autoreload\n",
    "%autoreload\n",
    "\n",
    "import os\n",
    "import sys\n",
    "\n",
    "import pandas as pd\n",
    "from pathlib import Path\n",
    "\n",
    "try:\n",
    "    import ClearMap.Settings as settings\n",
    "except:\n",
    "    sys.path.append(f\"/home/{os.getlogin()}/programs/ClearMap/ClearMap3\")\n",
    "    import ClearMap.Settings as settings\n",
    "\n",
    "try:\n",
    "    from src.spatial import maps_utils\n",
    "except:\n",
    "    sys.path.append(f\"/home/{os.getlogin()}/programs/stats3d\")\n",
    "    from src.spatial import maps_utils\n",
    "\n",
    "ontology_df = pd.read_json(Path(settings.atlas_folder) / 'ABA_annotation_last.jsonl', lines=True)"
   ]
  },
  {
   "cell_type": "markdown",
   "id": "b1cf5a56",
   "metadata": {},
   "source": [
    "### Prepare a data folder containing the following tif files (with same size and orientation (ideally coronal)):\n",
    "- The average density map of control group \n",
    "- The average density map of test group \n",
    "- The comparative p-value map\n",
    "- The atlas"
   ]
  },
  {
   "cell_type": "code",
   "execution_count": null,
   "id": "e9faa8cd",
   "metadata": {},
   "outputs": [],
   "source": [
    "data_folder = Path('...')"
   ]
  },
  {
   "cell_type": "markdown",
   "id": "c04f35dc",
   "metadata": {},
   "source": [
    "### Create effect size map"
   ]
  },
  {
   "cell_type": "code",
   "execution_count": null,
   "id": "127b2442",
   "metadata": {},
   "outputs": [],
   "source": [
    "pval_path = data_folder / 'p-values.tif'\n",
    "control_path = data_folder / 'avg_control.tif'\n",
    "test_path = data_folder / 'avg_test.tif'"
   ]
  },
  {
   "cell_type": "code",
   "execution_count": 8,
   "id": "459bd23f",
   "metadata": {},
   "outputs": [],
   "source": [
    "maps_utils.create_effect_size_map(pval_path, control_path, test_path)"
   ]
  },
  {
   "cell_type": "markdown",
   "id": "3a9c9777",
   "metadata": {},
   "source": [
    "### Optionnal: add atlas boundaries to the map"
   ]
  },
  {
   "cell_type": "code",
   "execution_count": null,
   "id": "6b456abf",
   "metadata": {},
   "outputs": [],
   "source": [
    "atlas_path = data_folder / 'atlas.tif'\n",
    "input_path = data_folder / 'effect_size.tif'"
   ]
  },
  {
   "cell_type": "code",
   "execution_count": 59,
   "id": "c9d24537",
   "metadata": {},
   "outputs": [],
   "source": [
    "maps_utils.superpose_atlas_boundaries(atlas_path, input_path)"
   ]
  },
  {
   "cell_type": "markdown",
   "id": "9dc2d8c8",
   "metadata": {},
   "source": [
    "### Extract only the subregion of interest"
   ]
  },
  {
   "cell_type": "code",
   "execution_count": null,
   "id": "fcf962e6",
   "metadata": {},
   "outputs": [],
   "source": [
    "work_dir = data_folder\n",
    "region = 1097\n",
    "\n",
    "# Hypothalamus: 1097, Somatosensory Areas: 453, Isocortex: 315\n",
    "# Preoptic: [515, 523, 272, 133, 72, 263, 452]"
   ]
  },
  {
   "cell_type": "code",
   "execution_count": null,
   "id": "e165ea32",
   "metadata": {},
   "outputs": [],
   "source": [
    "maps_utils.extract_subregion_from_map(work_dir, region, ontology_df, custom_name='preoptic')"
   ]
  },
  {
   "cell_type": "markdown",
   "id": "7089dc12",
   "metadata": {},
   "source": [
    "### Create region-wide projections"
   ]
  },
  {
   "cell_type": "code",
   "execution_count": null,
   "id": "28da206b",
   "metadata": {},
   "outputs": [],
   "source": [
    "work_dir = data_folder\n",
    "pattern = 'pval'\n",
    "region = None\n",
    "\n",
    "maps_utils.create_projected_map(work_dir, pattern, region, colormap='PiYG', contrast=[-200,200]) # diverging colormap for effect size "
   ]
  },
  {
   "cell_type": "markdown",
   "id": "31aadedd",
   "metadata": {},
   "source": [
    "### Create thick projections "
   ]
  },
  {
   "cell_type": "code",
   "execution_count": null,
   "id": "0003bf10",
   "metadata": {},
   "outputs": [],
   "source": [
    "work_dir = Path('...')\n",
    "pattern = 'pval'\n",
    "\n",
    "start_plane = 190\n",
    "end_plane = 230\n",
    "orientation='coronal'\n",
    "\n",
    "maps_utils.create_thick_projection(work_dir, pattern, orientation, start_plane, end_plane, colormap='PiYG', contrast=[-150,150])"
   ]
  }
 ],
 "metadata": {
  "kernelspec": {
   "display_name": "ClearMap3",
   "language": "python",
   "name": "python3"
  },
  "language_info": {
   "codemirror_mode": {
    "name": "ipython",
    "version": 3
   },
   "file_extension": ".py",
   "mimetype": "text/x-python",
   "name": "python",
   "nbconvert_exporter": "python",
   "pygments_lexer": "ipython3",
   "version": "3.11.11"
  }
 },
 "nbformat": 4,
 "nbformat_minor": 5
}
